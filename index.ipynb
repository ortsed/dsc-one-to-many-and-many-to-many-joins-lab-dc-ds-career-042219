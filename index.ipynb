{
 "cells": [
  {
   "cell_type": "markdown",
   "metadata": {},
   "source": [
    "# One-to-Many and Many-to-Many Joins - Lab"
   ]
  },
  {
   "cell_type": "markdown",
   "metadata": {},
   "source": [
    "## Introduction"
   ]
  },
  {
   "cell_type": "markdown",
   "metadata": {},
   "source": [
    "In this lab, you'll practice your knowledge on one-to-many and many-to-many relationships!"
   ]
  },
  {
   "cell_type": "markdown",
   "metadata": {},
   "source": [
    "## Objectives"
   ]
  },
  {
   "cell_type": "markdown",
   "metadata": {},
   "source": [
    "You will be able to:\n",
    "- Query data using one-to-many and many-to-many joins\n",
    "- Predict the resulting size of one-to-many and many-to-many joins"
   ]
  },
  {
   "cell_type": "markdown",
   "metadata": {},
   "source": [
    "## One-to-Many and Many-to-Many Joins\n",
    "<img src='images/Database-Schema.png' width=\"600\">"
   ]
  },
  {
   "cell_type": "markdown",
   "metadata": {},
   "source": [
    "## Connect to the Database"
   ]
  },
  {
   "cell_type": "code",
   "execution_count": 1,
   "metadata": {},
   "outputs": [
    {
     "name": "stdout",
     "output_type": "stream",
     "text": [
      "data.sqlite  images  index.ipynb  README.md\r\n"
     ]
    }
   ],
   "source": [
    "!ls"
   ]
  },
  {
   "cell_type": "code",
   "execution_count": 3,
   "metadata": {},
   "outputs": [],
   "source": [
    "#Your code here\n",
    "import sqlite3\n",
    "conn = sqlite3.connect(\"data.sqlite\")\n",
    "c = conn.cursor()"
   ]
  },
  {
   "cell_type": "markdown",
   "metadata": {},
   "source": [
    "## Employees and their Office (a One-to-One join)\n",
    "\n",
    "Return a list of all of the employees with their first name, last name and the city and state of the office that they work out of (if they have one). Include all employees and order them by their first name, then their last name."
   ]
  },
  {
   "cell_type": "code",
   "execution_count": 9,
   "metadata": {},
   "outputs": [
    {
     "data": {
      "text/plain": [
       "[('Andy', 'Fixter', 'Sydney', ''),\n",
       " ('Anthony', 'Bow', 'San Francisco', 'CA'),\n",
       " ('Barry', 'Jones', 'London', ''),\n",
       " ('Diane', 'Murphy', 'San Francisco', 'CA'),\n",
       " ('Foon Yue', 'Tseng', 'NYC', 'NY'),\n",
       " ('George', 'Vanauf', 'NYC', 'NY'),\n",
       " ('Gerard', 'Bondur', 'Paris', ''),\n",
       " ('Gerard', 'Hernandez', 'Paris', ''),\n",
       " ('Jeff', 'Firrelli', 'San Francisco', 'CA'),\n",
       " ('Julie', 'Firrelli', 'Boston', 'MA'),\n",
       " ('Larry', 'Bott', 'London', ''),\n",
       " ('Leslie', 'Jennings', 'San Francisco', 'CA'),\n",
       " ('Leslie', 'Thompson', 'San Francisco', 'CA'),\n",
       " ('Loui', 'Bondur', 'Paris', ''),\n",
       " ('Mami', 'Nishi', 'Tokyo', 'Chiyoda-Ku'),\n",
       " ('Martin', 'Gerard', 'Paris', ''),\n",
       " ('Mary', 'Patterson', 'San Francisco', 'CA'),\n",
       " ('Pamela', 'Castillo', 'Paris', ''),\n",
       " ('Peter', 'Marsh', 'Sydney', ''),\n",
       " ('Steve', 'Patterson', 'Boston', 'MA'),\n",
       " ('Tom', 'King', 'Sydney', ''),\n",
       " ('William', 'Patterson', 'Sydney', ''),\n",
       " ('Yoshimi', 'Kato', 'Tokyo', 'Chiyoda-Ku')]"
      ]
     },
     "execution_count": 9,
     "metadata": {},
     "output_type": "execute_result"
    }
   ],
   "source": [
    "c.execute(\"\"\"\n",
    "select e.firstName, e.lastName,\n",
    "o.city, o.state\n",
    "from employees e left join offices o\n",
    "using(officeCode)\n",
    "order by e.firstName, e.lastName\n",
    "\n",
    "\"\"\").fetchall()"
   ]
  },
  {
   "cell_type": "code",
   "execution_count": 12,
   "metadata": {},
   "outputs": [
    {
     "data": {
      "text/plain": [
       "[(23,)]"
      ]
     },
     "execution_count": 12,
     "metadata": {},
     "output_type": "execute_result"
    }
   ],
   "source": [
    "c.execute(\"\"\"select count() from employees\"\"\").fetchall()"
   ]
  },
  {
   "cell_type": "code",
   "execution_count": 13,
   "metadata": {},
   "outputs": [
    {
     "data": {
      "text/plain": [
       "[(23,)]"
      ]
     },
     "execution_count": 13,
     "metadata": {},
     "output_type": "execute_result"
    }
   ],
   "source": [
    "c.execute(\"\"\"\n",
    "select count(*)\n",
    "from employees e left join offices o\n",
    "using(officeCode)\n",
    "order by e.firstName, e.lastName\n",
    "\n",
    "\"\"\").fetchall()"
   ]
  },
  {
   "cell_type": "markdown",
   "metadata": {},
   "source": [
    "## Customers and their Orders (a One-to-Many join)\n",
    "\n",
    "Return a list of all the customers first and last names along with a record for each of their order numbers, order dates and statuses."
   ]
  },
  {
   "cell_type": "code",
   "execution_count": 18,
   "metadata": {},
   "outputs": [
    {
     "data": {
      "text/plain": [
       "[('Atelier graphique', '10123', '2003-05-20', 'Shipped'),\n",
       " ('Atelier graphique', '10298', '2004-09-27', 'Shipped'),\n",
       " ('Atelier graphique', '10345', '2004-11-25', 'Shipped'),\n",
       " ('Signal Gift Stores', '10124', '2003-05-21', 'Shipped'),\n",
       " ('Signal Gift Stores', '10278', '2004-08-06', 'Shipped'),\n",
       " ('Signal Gift Stores', '10346', '2004-11-29', 'Shipped'),\n",
       " ('Australian Collectors, Co.', '10120', '2003-04-29', 'Shipped'),\n",
       " ('Australian Collectors, Co.', '10125', '2003-05-21', 'Shipped'),\n",
       " ('Australian Collectors, Co.', '10223', '2004-02-20', 'Shipped'),\n",
       " ('Australian Collectors, Co.', '10342', '2004-11-24', 'Shipped')]"
      ]
     },
     "execution_count": 18,
     "metadata": {},
     "output_type": "execute_result"
    }
   ],
   "source": [
    "c.execute(\"\"\"\n",
    "select c.customerName, \n",
    "o.orderNumber, o.orderDate, o.status\n",
    "from customers c, orders o\n",
    "using(customerNumber)\n",
    "\n",
    "limit 0,10\n",
    "\n",
    "\"\"\").fetchall()"
   ]
  },
  {
   "cell_type": "markdown",
   "metadata": {},
   "source": [
    "## Customers and their Payments (another One-to-Many join)\n",
    "\n",
    "Return a list of customers first and last names along with details about their payments including the amount and date of payments. Sort these results in descending order by the payment amount."
   ]
  },
  {
   "cell_type": "code",
   "execution_count": 19,
   "metadata": {},
   "outputs": [
    {
     "data": {
      "text/plain": [
       "[('Atelier graphique',\n",
       "  '10100',\n",
       "  '2003-01-06',\n",
       "  'Shipped',\n",
       "  '14571.44',\n",
       "  '2003-06-05'),\n",
       " ('Atelier graphique',\n",
       "  '10100',\n",
       "  '2003-01-06',\n",
       "  'Shipped',\n",
       "  '6066.78',\n",
       "  '2004-10-19'),\n",
       " ('Atelier graphique',\n",
       "  '10100',\n",
       "  '2003-01-06',\n",
       "  'Shipped',\n",
       "  '1676.14',\n",
       "  '2004-12-18'),\n",
       " ('Atelier graphique',\n",
       "  '10101',\n",
       "  '2003-01-09',\n",
       "  'Shipped',\n",
       "  '14571.44',\n",
       "  '2003-06-05'),\n",
       " ('Atelier graphique',\n",
       "  '10101',\n",
       "  '2003-01-09',\n",
       "  'Shipped',\n",
       "  '6066.78',\n",
       "  '2004-10-19'),\n",
       " ('Atelier graphique',\n",
       "  '10101',\n",
       "  '2003-01-09',\n",
       "  'Shipped',\n",
       "  '1676.14',\n",
       "  '2004-12-18'),\n",
       " ('Atelier graphique',\n",
       "  '10102',\n",
       "  '2003-01-10',\n",
       "  'Shipped',\n",
       "  '14571.44',\n",
       "  '2003-06-05'),\n",
       " ('Atelier graphique',\n",
       "  '10102',\n",
       "  '2003-01-10',\n",
       "  'Shipped',\n",
       "  '6066.78',\n",
       "  '2004-10-19'),\n",
       " ('Atelier graphique',\n",
       "  '10102',\n",
       "  '2003-01-10',\n",
       "  'Shipped',\n",
       "  '1676.14',\n",
       "  '2004-12-18'),\n",
       " ('Atelier graphique',\n",
       "  '10103',\n",
       "  '2003-01-29',\n",
       "  'Shipped',\n",
       "  '14571.44',\n",
       "  '2003-06-05')]"
      ]
     },
     "execution_count": 19,
     "metadata": {},
     "output_type": "execute_result"
    }
   ],
   "source": [
    "c.execute(\"\"\"\n",
    "select c.customerName, \n",
    "o.orderNumber, o.orderDate, o.status,\n",
    "p.amount, p.paymentDate\n",
    "from customers c, orders o, payments p\n",
    "using(customerNumber)\n",
    "\n",
    "limit 0,10\n",
    "\n",
    "\"\"\").fetchall()"
   ]
  },
  {
   "cell_type": "markdown",
   "metadata": {},
   "source": [
    "## Orders, Order details and Product Details (a Many-to-Many Join)"
   ]
  },
  {
   "cell_type": "markdown",
   "metadata": {},
   "source": [
    "Return a list of customer first and last names, product names, quantities, and date ordered for each of the customers and each of their orders. Sort these in descending order by the order date.\n",
    "\n",
    "Note: This will require joining 4 tables! This can be tricky! Give it a shot, and if you're still stuck, turn to the next section where you'll see how to write subqueries which can make complex queries such as this much simpler!"
   ]
  },
  {
   "cell_type": "code",
   "execution_count": 25,
   "metadata": {},
   "outputs": [
    {
     "data": {
      "text/plain": [
       "[('Janine ', 'Labrune', '1962 LanciaA Delta 16V', '38', '2005-05-31'),\n",
       " ('Janine ', 'Labrune', '1957 Chevy Pickup', '33', '2005-05-31'),\n",
       " ('Janine ', 'Labrune', '1998 Chrysler Plymouth Prowler', '28', '2005-05-31'),\n",
       " ('Janine ', 'Labrune', '1964 Mercedes Tour Bus', '38', '2005-05-31'),\n",
       " ('Janine ', 'Labrune', '1926 Ford Fire Engine', '19', '2005-05-31'),\n",
       " ('Janine ', 'Labrune', '1992 Ferrari 360 Spider red', '28', '2005-05-31'),\n",
       " ('Janine ', 'Labrune', '1940s Ford truck', '38', '2005-05-31'),\n",
       " ('Janine ', 'Labrune', '1970 Dodge Coronet', '55', '2005-05-31'),\n",
       " ('Janine ', 'Labrune', '1962 Volkswagen Microbus', '49', '2005-05-31'),\n",
       " ('Janine ',\n",
       "  'Labrune',\n",
       "  '1958 Chevy Corvette Limited Edition',\n",
       "  '31',\n",
       "  '2005-05-31')]"
      ]
     },
     "execution_count": 25,
     "metadata": {},
     "output_type": "execute_result"
    }
   ],
   "source": [
    "c.execute(\"\"\"\n",
    "select c.contactFirstName, c.contactLastName,\n",
    "prd.productName, od.quantityOrdered, o.orderDate\n",
    "\n",
    "from customers c, orders o, orderDetails od,\n",
    "products prd\n",
    "\n",
    "where c.customerNumber = o.customerNumber\n",
    "and o.orderNumber = od.orderNumber\n",
    "and od.productCode = prd.productCode\n",
    "\n",
    "order by orderDate DESC\n",
    "\n",
    "limit 0,10\n",
    "\n",
    "\"\"\").fetchall()"
   ]
  },
  {
   "cell_type": "markdown",
   "metadata": {},
   "source": [
    "## Summary"
   ]
  },
  {
   "cell_type": "markdown",
   "metadata": {},
   "source": [
    "In this lab, you practiced your knowledge on one-to-many and many-to-many relationships!"
   ]
  }
 ],
 "metadata": {
  "kernelspec": {
   "display_name": "Python 3",
   "language": "python",
   "name": "python3"
  },
  "language_info": {
   "codemirror_mode": {
    "name": "ipython",
    "version": 3
   },
   "file_extension": ".py",
   "mimetype": "text/x-python",
   "name": "python",
   "nbconvert_exporter": "python",
   "pygments_lexer": "ipython3",
   "version": "3.6.6"
  }
 },
 "nbformat": 4,
 "nbformat_minor": 2
}
